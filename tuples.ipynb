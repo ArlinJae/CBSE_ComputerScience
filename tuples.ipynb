{
 "cells": [
  {
   "cell_type": "code",
   "source": [
    "from itertools import count\n",
    "\n",
    "tup1=(\"bag\", \"book\", \"copy\", \"lunch box\", \"pencil box\")\n",
    "tup2=(5, 10, 15, 20, 25, 30, 35)\n",
    "tup3= tup1[:]\n",
    "tup4= tup2[1:5]"
   ],
   "metadata": {
    "collapsed": false,
    "pycharm": {
     "name": "#%%\n"
    }
   },
   "execution_count": 5,
   "outputs": []
  },
  {
   "cell_type": "code",
   "execution_count": 6,
   "outputs": [
    {
     "name": "stdout",
     "output_type": "stream",
     "text": [
      "('bag', 'book', 'copy', 'lunch box', 'pencil box')\n",
      "(10, 15, 20, 25)\n"
     ]
    }
   ],
   "source": [
    "print(tup3)\n",
    "print(tup4)"
   ],
   "metadata": {
    "collapsed": false,
    "pycharm": {
     "name": "#%%\n"
    }
   }
  },
  {
   "cell_type": "code",
   "execution_count": 9,
   "outputs": [],
   "source": [
    "planets =['Mercury', 'Venus', 'Earth', 'Mars', 'Jupiter', 'Saturn', 'Uranus', 'Neptune']"
   ],
   "metadata": {
    "collapsed": false,
    "pycharm": {
     "name": "#%%\n"
    }
   }
  },
  {
   "cell_type": "code",
   "execution_count": 10,
   "outputs": [
    {
     "name": "stdout",
     "output_type": "stream",
     "text": [
      "Saturn\n",
      "Jupiter\n",
      "Jupiter\n",
      "['Earth', 'Mars', 'Jupiter', 'Saturn']\n",
      "['Earth', 'Jupiter']\n",
      "['Mercury', 'Venus', 'Earth', 'Mars']\n",
      "['Earth', 'Mars', 'Jupiter', 'Saturn', 'Uranus', 'Neptune']\n",
      "['Mercury', 'Earth', 'Jupiter', 'Uranus']\n",
      "['Neptune', 'Saturn', 'Mars', 'Venus']\n",
      "['Mars', 'Jupiter', 'Saturn', 'Uranus']\n",
      "['Saturn', 'Mars']\n",
      "['Uranus', 'Saturn', 'Jupiter']\n",
      "['Neptune', 'Saturn']\n"
     ]
    }
   ],
   "source": [
    "print(planets[5])\n",
    "print(planets[2*2])\n",
    "print(planets[-4])\n",
    "print(planets[2:6])\n",
    "print(planets[2:6:2])\n",
    "print(planets[:4])\n",
    "print(planets[2:])\n",
    "print(planets[::2])\n",
    "print(planets[::-2])\n",
    "print(planets[-5:-1])\n",
    "print(planets[5:2:-2])\n",
    "print(planets[-2:-5:-1])\n",
    "print(planets[-1:-5:-2])"
   ],
   "metadata": {
    "collapsed": false,
    "pycharm": {
     "name": "#%%\n"
    }
   }
  },
  {
   "cell_type": "code",
   "execution_count": 14,
   "outputs": [],
   "source": [
    "monuments=[ 'Kutub Minar', 10, 'Taj Mahal', 20, 'India Gate', 30, 'Char Minar', 40]\n",
    "states=['Delhi', 'Kerala', 'Tamil Nadu', 'Bihar']"
   ],
   "metadata": {
    "collapsed": false,
    "pycharm": {
     "name": "#%%\n"
    }
   }
  },
  {
   "cell_type": "code",
   "execution_count": 6,
   "outputs": [
    {
     "name": "stdout",
     "output_type": "stream",
     "text": [
      "('Kutub Minar', 10, 'Taj Mahal', 20, 'India Gate', 30, 'Char Minar', 40, 'Red Fort', 'Jantar Mantar')\n"
     ]
    }
   ],
   "source": [
    "mon = list(monuments)\n",
    "mon.extend(['Red Fort', 'Jantar Mantar'])\n",
    "print(tuple(mon))"
   ],
   "metadata": {
    "collapsed": false,
    "pycharm": {
     "name": "#%%\n"
    }
   }
  },
  {
   "cell_type": "code",
   "execution_count": 8,
   "outputs": [
    {
     "name": "stdout",
     "output_type": "stream",
     "text": [
      "('Kutub Minar', 10, 'Taj Mahal', 20, 'India Gate', 30, 'Char Minar', 40, '50')\n"
     ]
    }
   ],
   "source": [
    "mon = list(monuments) + ['50']\n",
    "print(tuple(mon))"
   ],
   "metadata": {
    "collapsed": false,
    "pycharm": {
     "name": "#%%\n"
    }
   }
  },
  {
   "cell_type": "code",
   "execution_count": 9,
   "outputs": [
    {
     "name": "stdout",
     "output_type": "stream",
     "text": [
      "['Kutub Minar', 10, 'Taj Mahal', 20, 'India Gate', 30, 'Char Minar', 40, 'Delhi', 'Kerala', 'Tamil Nadu', 'Bihar']\n"
     ]
    }
   ],
   "source": [
    "mon = list(monuments) + list(states)\n",
    "print(tuple(mon))"
   ],
   "metadata": {
    "collapsed": false,
    "pycharm": {
     "name": "#%%\n"
    }
   }
  },
  {
   "cell_type": "code",
   "execution_count": 12,
   "outputs": [
    {
     "name": "stdout",
     "output_type": "stream",
     "text": [
      "('Kutub Minar', 10, 'India', 'India', 'India', 30, 'Char Minar', 40)\n"
     ]
    }
   ],
   "source": [
    "mon = list(monuments)\n",
    "mon[2], mon[3], mon[4] = 'India', 'India', 'India'\n",
    "print(tuple(mon))"
   ],
   "metadata": {
    "collapsed": false,
    "pycharm": {
     "name": "#%%\n"
    }
   }
  },
  {
   "cell_type": "code",
   "execution_count": null,
   "outputs": [],
   "source": [
    "mon = list(monuments)\n",
    "del mon[2]\n",
    "print(tuple(mon))"
   ],
   "metadata": {
    "collapsed": false,
    "pycharm": {
     "name": "#%%\n"
    }
   }
  },
  {
   "cell_type": "code",
   "execution_count": 13,
   "outputs": [],
   "source": [
    "monuments = ()"
   ],
   "metadata": {
    "collapsed": false,
    "pycharm": {
     "name": "#%%\n"
    }
   }
  },
  {
   "cell_type": "code",
   "execution_count": 16,
   "outputs": [
    {
     "name": "stdout",
     "output_type": "stream",
     "text": [
      "('Delhi', 'Kerala', 'Tamil Nadu', 'Bihar', 'Delhi', 'Kerala', 'Tamil Nadu', 'Bihar')\n"
     ]
    }
   ],
   "source": [
    "states_updated = list(states) * 2\n",
    "print(tuple(states_updated))"
   ],
   "metadata": {
    "collapsed": false,
    "pycharm": {
     "name": "#%%\n"
    }
   }
  },
  {
   "cell_type": "code",
   "execution_count": 17,
   "outputs": [
    {
     "name": "stdout",
     "output_type": "stream",
     "text": [
      "True\n"
     ]
    }
   ],
   "source": [
    "print(20 in monuments)"
   ],
   "metadata": {
    "collapsed": false,
    "pycharm": {
     "name": "#%%\n"
    }
   }
  },
  {
   "cell_type": "code",
   "execution_count": 18,
   "outputs": [
    {
     "name": "stdout",
     "output_type": "stream",
     "text": [
      "['Delhi', 'Kerala', 'Tamil Nadu', 'Bihar'] ['Kutub Minar', 10, 'Taj Mahal', 20, 'India Gate', 30, 'Char Minar', 40]\n"
     ]
    }
   ],
   "source": [
    "monuments, states = states, monuments\n",
    "print(monuments, states)"
   ],
   "metadata": {
    "collapsed": false,
    "pycharm": {
     "name": "#%%\n"
    }
   }
  },
  {
   "cell_type": "code",
   "execution_count": 20,
   "outputs": [
    {
     "name": "stdout",
     "output_type": "stream",
     "text": [
      "Delhi\n",
      "Kerala\n",
      "Tamil Nadu\n",
      "Bihar\n"
     ]
    }
   ],
   "source": [
    "for i in states:\n",
    "    print(i)"
   ],
   "metadata": {
    "collapsed": false,
    "pycharm": {
     "name": "#%%\n"
    }
   }
  },
  {
   "cell_type": "code",
   "execution_count": 21,
   "outputs": [],
   "source": [
    "planets=['Mercury', 'Venus', 'Earth', 'Mars', 'Jupiter', 'Saturn', 'Uranus', 'Neptune']\n",
    "states=['Delhi', 'Kerala', 'Tamil Nadu', 'Bihar', 'Delhi']"
   ],
   "metadata": {
    "collapsed": false,
    "pycharm": {
     "name": "#%%\n"
    }
   }
  },
  {
   "cell_type": "code",
   "execution_count": 22,
   "outputs": [
    {
     "ename": "TypeError",
     "evalue": "can only concatenate list (not \"str\") to list",
     "output_type": "error",
     "traceback": [
      "\u001B[0;31m---------------------------------------------------------------------------\u001B[0m",
      "\u001B[0;31mTypeError\u001B[0m                                 Traceback (most recent call last)",
      "\u001B[0;32m/var/folders/m1/rvzfgl550878c58p7v_yhv300000gq/T/ipykernel_26095/1681424529.py\u001B[0m in \u001B[0;36m<module>\u001B[0;34m\u001B[0m\n\u001B[0;32m----> 1\u001B[0;31m \u001B[0mplanets\u001B[0m \u001B[0;34m=\u001B[0m \u001B[0mplanets\u001B[0m \u001B[0;34m+\u001B[0m \u001B[0;34m'Tamil'\u001B[0m\u001B[0;34m\u001B[0m\u001B[0;34m\u001B[0m\u001B[0m\n\u001B[0m",
      "\u001B[0;31mTypeError\u001B[0m: can only concatenate list (not \"str\") to list"
     ]
    }
   ],
   "source": [
    "planets = planets + 'Tamil'"
   ],
   "metadata": {
    "collapsed": false,
    "pycharm": {
     "name": "#%%\n"
    }
   }
  },
  {
   "cell_type": "code",
   "execution_count": 23,
   "outputs": [
    {
     "name": "stdout",
     "output_type": "stream",
     "text": [
      "['Delhi', 'Kerala', 'Tamil Nadu', 'Bihar', 'Delhi', 'Delhi', 'Kerala', 'Tamil Nadu', 'Bihar', 'Delhi']\n"
     ]
    }
   ],
   "source": [
    "states = states * 2\n",
    "print(states)"
   ],
   "metadata": {
    "collapsed": false,
    "pycharm": {
     "name": "#%%\n"
    }
   }
  },
  {
   "cell_type": "code",
   "execution_count": 24,
   "outputs": [
    {
     "data": {
      "text/plain": "8"
     },
     "execution_count": 24,
     "metadata": {},
     "output_type": "execute_result"
    }
   ],
   "source": [
    "len(planets)"
   ],
   "metadata": {
    "collapsed": false,
    "pycharm": {
     "name": "#%%\n"
    }
   }
  },
  {
   "cell_type": "code",
   "execution_count": 25,
   "outputs": [
    {
     "data": {
      "text/plain": "'Venus'"
     },
     "execution_count": 25,
     "metadata": {},
     "output_type": "execute_result"
    }
   ],
   "source": [
    "max(planets)"
   ],
   "metadata": {
    "collapsed": false,
    "pycharm": {
     "name": "#%%\n"
    }
   }
  },
  {
   "cell_type": "code",
   "execution_count": 26,
   "outputs": [
    {
     "data": {
      "text/plain": "'Earth'"
     },
     "execution_count": 26,
     "metadata": {},
     "output_type": "execute_result"
    }
   ],
   "source": [
    "min(planets)"
   ],
   "metadata": {
    "collapsed": false,
    "pycharm": {
     "name": "#%%\n"
    }
   }
  },
  {
   "cell_type": "code",
   "execution_count": 30,
   "outputs": [
    {
     "ename": "NameError",
     "evalue": "name 'count' is not defined",
     "output_type": "error",
     "traceback": [
      "\u001B[0;31m---------------------------------------------------------------------------\u001B[0m",
      "\u001B[0;31mNameError\u001B[0m                                 Traceback (most recent call last)",
      "\u001B[0;32m/var/folders/m1/rvzfgl550878c58p7v_yhv300000gq/T/ipykernel_26095/2670698506.py\u001B[0m in \u001B[0;36m<module>\u001B[0;34m\u001B[0m\n\u001B[0;32m----> 1\u001B[0;31m \u001B[0mcount\u001B[0m\u001B[0;34m(\u001B[0m\u001B[0;34m'Delhi'\u001B[0m\u001B[0;34m)\u001B[0m\u001B[0;34m\u001B[0m\u001B[0;34m\u001B[0m\u001B[0m\n\u001B[0m",
      "\u001B[0;31mNameError\u001B[0m: name 'count' is not defined"
     ]
    }
   ],
   "source": [
    "count('Delhi')"
   ],
   "metadata": {
    "collapsed": false,
    "pycharm": {
     "name": "#%%\n"
    }
   }
  },
  {
   "cell_type": "code",
   "execution_count": 32,
   "outputs": [
    {
     "name": "stdout",
     "output_type": "stream",
     "text": [
      "4\n"
     ]
    }
   ],
   "source": [
    "tup = eval(input(\"Enter a tuple: \"))\n",
    "print(max(tup))"
   ],
   "metadata": {
    "collapsed": false,
    "pycharm": {
     "name": "#%%\n"
    }
   }
  },
  {
   "cell_type": "code",
   "execution_count": null,
   "outputs": [],
   "source": [
    "tup = eval(input(\"Enter a tuple: \"))\n",
    "print(min(tup))"
   ],
   "metadata": {
    "collapsed": false,
    "pycharm": {
     "name": "#%%\n"
    }
   }
  },
  {
   "cell_type": "code",
   "execution_count": 33,
   "outputs": [
    {
     "name": "stdout",
     "output_type": "stream",
     "text": [
      "6\n"
     ]
    }
   ],
   "source": [
    "tup = eval(input(\"Enter a tuple: \"))\n",
    "print(sum(tup))"
   ],
   "metadata": {
    "collapsed": false,
    "pycharm": {
     "name": "#%%\n"
    }
   }
  },
  {
   "cell_type": "code",
   "execution_count": 36,
   "outputs": [
    {
     "name": "stdout",
     "output_type": "stream",
     "text": [
      "2.0\n"
     ]
    }
   ],
   "source": [
    "tup = eval(input(\"Enter a tuple: \"))\n",
    "print(sum(tup)/ len(tup))"
   ],
   "metadata": {
    "collapsed": false,
    "pycharm": {
     "name": "#%%\n"
    }
   }
  },
  {
   "cell_type": "code",
   "execution_count": 37,
   "outputs": [
    {
     "name": "stdout",
     "output_type": "stream",
     "text": [
      "['(', '1', ',', '2', ',', '3', ')', '\"HI\"']\n"
     ]
    }
   ],
   "source": [
    "dance = tuple(input(\"Enter a tuple: \"))\n",
    "elem_add = input(\"Enter an dance form to add: \")\n",
    "print(list(dance) + [elem_add])"
   ],
   "metadata": {
    "collapsed": false,
    "pycharm": {
     "name": "#%%\n"
    }
   }
  },
  {
   "cell_type": "code",
   "execution_count": 1,
   "outputs": [
    {
     "name": "stdout",
     "output_type": "stream",
     "text": [
      "True\n"
     ]
    }
   ],
   "source": [
    "a = ((1,2,3), (4,5,6), (7,8,9))\n",
    "search = eval(input(\"Please enter number to search > \"))\n",
    "status = False\n",
    "for i in a:\n",
    "    for j in i:\n",
    "        if j == search:\n",
    "            status = True\n",
    "            break\n",
    "print(status)"
   ],
   "metadata": {
    "collapsed": false,
    "pycharm": {
     "name": "#%%\n"
    }
   }
  }
 ],
 "metadata": {
  "kernelspec": {
   "display_name": "Python 3",
   "language": "python",
   "name": "python3"
  },
  "language_info": {
   "codemirror_mode": {
    "name": "ipython",
    "version": 2
   },
   "file_extension": ".py",
   "mimetype": "text/x-python",
   "name": "python",
   "nbconvert_exporter": "python",
   "pygments_lexer": "ipython2",
   "version": "2.7.6"
  }
 },
 "nbformat": 4,
 "nbformat_minor": 0
}