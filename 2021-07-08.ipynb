{
 "cells": [
  {
   "cell_type": "markdown",
   "metadata": {},
   "source": [
    "## Classwork : 2021-07-08"
   ]
  },
  {
   "cell_type": "markdown",
   "metadata": {},
   "source": [
    "1) Identify the data types of the following data objects:\n",
    "\n",
    "\t- **7** :  int\n",
    "\t- **‘7’** : str\n",
    "\t- **“7”** : str\n",
    "\t- **7.0** : float\n",
    "\t- **‘’’7’’’** : str\n",
    "\t- **-0.7** : float\n",
    "\t- **29** : int\n",
    "\t- **-15.38** : float\n",
    "\t- **“29 acres”** : str\n",
    "\t- **“. & #”** : str"
   ]
  },
  {
   "cell_type": "code",
   "execution_count": null,
   "metadata": {
    "pycharm": {
     "name": "#%%\n"
    }
   },
   "outputs": [],
   "source": [
    "print(type(7))\n",
    "print(type('7'))\n",
    "print(type(\"7\"))\n",
    "print(type(7.0))\n",
    "print(type('''7'''))\n",
    "print(type(-0.7))\n",
    "print(type(29))\n",
    "print(type(15.38))\n",
    "print(type(\"29 acres\"))\n",
    "print(type(\". & #\"))"
   ]
  },
  {
   "cell_type": "markdown",
   "metadata": {},
   "source": [
    "2) What is a variable? What are the rules for forming valid variable names in Python?\n",
    "\n",
    "\t- A variable is a container which stores data.\n",
    "    - Variables need to follow the following format in python:\n",
    "        \\- They must start with an underscore (example - `__main__`) or with a letter.\n",
    "        \\- They cannot start with a number.\n",
    "        \\- They can only contain alpha-numeric characters and underscores.\n",
    "        \\- names are case-sensitive (`name != NAME != Name`)\n",
    "        \\- You cannot use reserved keywords."
   ]
  },
  {
   "cell_type": "markdown",
   "metadata": {},
   "source": [
    "3) Write Python statements to display a list of Python keywords."
   ]
  },
  {
   "cell_type": "code",
   "execution_count": null,
   "metadata": {
    "pycharm": {
     "name": "#%%\n"
    }
   },
   "outputs": [],
   "source": [
    "#You need to execute this cell a single time only\n",
    "import keyword"
   ]
  },
  {
   "cell_type": "code",
   "execution_count": null,
   "metadata": {
    "pycharm": {
     "name": "#%%\n"
    }
   },
   "outputs": [],
   "source": [
    "print(keyword.kwlist)"
   ]
  },
  {
   "cell_type": "markdown",
   "metadata": {},
   "source": [
    "4) What is an augmented assignment operator? Give an example to explain.\n",
    "\n",
    "\t- Augmented assignment operators help in making statements more compact. \n",
    "    - They're usually used to change pre-existing values."
   ]
  },
  {
   "cell_type": "code",
   "execution_count": null,
   "metadata": {
    "pycharm": {
     "name": "#%%\n"
    }
   },
   "outputs": [],
   "source": [
    "a1 = 5\n",
    "b1 = 15\n",
    "\n",
    "a2 = 5\n",
    "b2 = 15"
   ]
  },
  {
   "cell_type": "code",
   "execution_count": null,
   "metadata": {
    "pycharm": {
     "name": "#%%\n"
    }
   },
   "outputs": [],
   "source": [
    "a1 += b1\n",
    "print(a1)\n",
    "\n",
    "a2 = a2 + b2\n",
    "print(a2)\n",
    "\n",
    "#Therefore, we can conclude that a += b is the same as a = a + b"
   ]
  },
  {
   "cell_type": "markdown",
   "metadata": {
    "pycharm": {
     "name": "#%% md\n"
    }
   },
   "source": [
    "5) Identify invalid variable names from the following, give reason for each:\n",
    "\n",
    "    - **`Group`** :  VALID\n",
    "    - **`if`** : INVALID ; is keyboard\n",
    "    - **`int`** : INVALID ; is keyboard\n",
    "    - **`total marks`** : INVALID ; contains space\n",
    "    - **`S.I.`** : INVALID ; contains a dot\n",
    "    - **`volume`** : VALID\n",
    "    - **`tot_strength`** : VALID\n",
    "    - **`9t`** : VALID\n",
    "    - **`tag$`** : INVALID ; contains a $"
   ]
  },
  {
   "cell_type": "markdown",
   "metadata": {
    "pycharm": {
     "name": "#%% md\n"
    }
   },
   "source": [
    "6) What is a token? What are different categories of tokens in Python? Give two examples of tokens of each category.\n",
    "\n",
    "    - A token is one of the components of each logical line in python.\n",
    "    - The types of tokens are as follows:\n",
    "        \\- identifiers : `name`, `no_of_friends`\n",
    "        \\- keywords : `and`, `or`\n",
    "        \\- literals : `3.2`, `1.1`\n",
    "        \\- operators : `+`, `**`\n",
    "        \\- delimiters : `:`, `+=`"
   ]
  },
  {
   "cell_type": "markdown",
   "metadata": {},
   "source": [
    "7) Observe the following script and enlist all the tokens used in it. For each token, write its category\n",
    "too:"
   ]
  },
  {
   "cell_type": "code",
   "execution_count": null,
   "metadata": {
    "pycharm": {
     "name": "#%%\n"
    }
   },
   "outputs": [],
   "source": [
    "#Identify tokens in the script\n",
    "name = \"Arjun\"\n",
    "age = eval(input(\"Enter age: \"))\n",
    "print(name, \"is\", age, \"years old\")"
   ]
  },
  {
   "cell_type": "markdown",
   "metadata": {
    "pycharm": {
     "name": "#%% md\n"
    }
   },
   "source": [
    "    - `name` : identifier\n",
    "    - `=` : delimiter\n",
    "    - `\"Arjun\"` : literal\n",
    "    - `age` : identifier\n",
    "    - `=` : delimiter/ operator\n",
    "    - `eval` : identifier\n",
    "    - `input` : identifier\n",
    "    - `\"Enter age: \"` : literal\n",
    "    - `print` : identifier\n",
    "    - `\"is\"` : literal\n",
    "    - `\"years old\"` : literal\n"
   ]
  }
 ],
 "metadata": {
  "kernelspec": {
   "display_name": "Python 3 (ipykernel)",
   "language": "python",
   "name": "python3"
  },
  "language_info": {
   "codemirror_mode": {
    "name": "ipython",
    "version": 3
   },
   "file_extension": ".py",
   "mimetype": "text/x-python",
   "name": "python",
   "nbconvert_exporter": "python",
   "pygments_lexer": "ipython3",
   "version": "3.9.5"
  }
 },
 "nbformat": 4,
 "nbformat_minor": 1
}