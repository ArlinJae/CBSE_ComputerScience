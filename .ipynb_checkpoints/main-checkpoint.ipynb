{
 "cells": [
  {
   "cell_type": "markdown",
   "metadata": {
    "pycharm": {
     "name": "#%% md\n"
    }
   },
   "source": [
    "### Lesson #2 : 2021-07-02"
   ]
  },
  {
   "cell_type": "code",
   "execution_count": 1,
   "metadata": {
    "pycharm": {
     "name": "#%%\n"
    }
   },
   "outputs": [
    {
     "name": "stdout",
     "output_type": "stream",
     "text": [
      "The sum of the number are > 3\n",
      "The subtraction of the number are > -1\n",
      "The division of the number are > 0.5\n",
      "The multiplication of the number are > 2\n"
     ]
    }
   ],
   "source": [
    "x = eval(input(\"Please enter number 1 > \"))\n",
    "y = eval(input(\"Please enter number 2 > \"))\n",
    "\n",
    "print(\"The sum of the number are > \" + str(x+y))\n",
    "print(\"The subtraction of the number are > \" + str(x-y))\n",
    "print(\"The division of the number are > \" + str(x/y))\n",
    "print(\"The multiplication of the number are > \" + str(x*y))\n"
   ]
  }
 ],
 "metadata": {
  "kernelspec": {
   "display_name": "Python 3 (ipykernel)",
   "language": "python",
   "name": "python3"
  },
  "language_info": {
   "codemirror_mode": {
    "name": "ipython",
    "version": 3
   },
   "file_extension": ".py",
   "mimetype": "text/x-python",
   "name": "python",
   "nbconvert_exporter": "python",
   "pygments_lexer": "ipython3",
   "version": "3.9.5"
  }
 },
 "nbformat": 4,
 "nbformat_minor": 1
}
