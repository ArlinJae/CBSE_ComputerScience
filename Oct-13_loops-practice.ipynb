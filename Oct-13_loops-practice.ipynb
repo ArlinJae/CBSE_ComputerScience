{
 "cells": [
  {
   "cell_type": "code",
   "execution_count": null,
   "metadata": {
    "collapsed": true
   },
   "outputs": [],
   "source": [
    "a, b = int(input(\"Please enter number 1 > \")), int(input(\"Please enter number 2 > \"))\n",
    "ans_sum = 0\n",
    "for i in range(a, b+1):\n",
    "    if i % 2 == 0:\n",
    "        ans_sum += i\n",
    "print(ans_sum)"
   ]
  },
  {
   "cell_type": "code",
   "execution_count": 5,
   "outputs": [
    {
     "name": "stdout",
     "output_type": "stream",
     "text": [
      "True\n"
     ]
    }
   ],
   "source": [
    "def getdivisors(num):\n",
    "    divisors = []\n",
    "    for i in range(1, num):\n",
    "        if num % i == 0:\n",
    "            divisors.append(i)\n",
    "    return divisors\n",
    "\n",
    "inp_num = int(input(\"Please enter number > \"))\n",
    "\n",
    "print(inp_num == sum(getdivisors(inp_num)))"
   ],
   "metadata": {
    "collapsed": false,
    "pycharm": {
     "name": "#%%\n"
    }
   }
  },
  {
   "cell_type": "code",
   "execution_count": 7,
   "outputs": [
    {
     "name": "stdout",
     "output_type": "stream",
     "text": [
      "288 312\n"
     ]
    }
   ],
   "source": [
    "sum_odd, sum_even = 0, 0\n",
    "for i in range(12, 37):\n",
    "    if i % 2 == 0:\n",
    "        sum_even += i\n",
    "    else:\n",
    "        sum_odd += i\n",
    "print(sum_odd, sum_even)"
   ],
   "metadata": {
    "collapsed": false,
    "pycharm": {
     "name": "#%%\n"
    }
   }
  },
  {
   "cell_type": "code",
   "execution_count": 16,
   "outputs": [
    {
     "name": "stdout",
     "output_type": "stream",
     "text": [
      "1 2 3 4 5 \n",
      "1 2 3 4 \n",
      "1 2 3 \n",
      "1 2 \n",
      "1 \n"
     ]
    }
   ],
   "source": [
    "for i in range(6, 1, -1):\n",
    "    for j in range(1, i):\n",
    "        print(j, end=\" \")\n",
    "    print()"
   ],
   "metadata": {
    "collapsed": false,
    "pycharm": {
     "name": "#%%\n"
    }
   }
  },
  {
   "cell_type": "code",
   "execution_count": 44,
   "outputs": [
    {
     "name": "stdout",
     "output_type": "stream",
     "text": [
      "1\n",
      "233 \n",
      "3455 \n",
      "45677 5 \n",
      "567899 7 \n"
     ]
    }
   ],
   "source": [
    "# for i in range(1, 6):\n",
    "#     for j in range(i, 2 * i):\n",
    "#         print(j, end=\" \")\n",
    "#     print()\n",
    "\n",
    "for i in range(1, 6):\n",
    "    for j in range(i, 2 * i):\n",
    "        print(j, end=\"\")\n",
    "    for j in range(2 * i - 1, i, -2):\n",
    "        print(j, end=\" \")\n",
    "    print()\n"
   ],
   "metadata": {
    "collapsed": false,
    "pycharm": {
     "name": "#%%\n"
    }
   }
  }
 ],
 "metadata": {
  "kernelspec": {
   "display_name": "Python 3",
   "language": "python",
   "name": "python3"
  },
  "language_info": {
   "codemirror_mode": {
    "name": "ipython",
    "version": 2
   },
   "file_extension": ".py",
   "mimetype": "text/x-python",
   "name": "python",
   "nbconvert_exporter": "python",
   "pygments_lexer": "ipython2",
   "version": "2.7.6"
  }
 },
 "nbformat": 4,
 "nbformat_minor": 0
}