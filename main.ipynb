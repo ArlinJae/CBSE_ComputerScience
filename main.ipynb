{
 "cells": [
  {
   "cell_type": "markdown",
   "metadata": {
    "pycharm": {
     "name": "#%% md\n"
    }
   },
   "source": [
    "### Lesson #2 : 2021-07-02"
   ]
  },
  {
   "cell_type": "code",
   "execution_count": 1,
   "metadata": {
    "pycharm": {
     "name": "#%%\n"
    }
   },
   "outputs": [
    {
     "name": "stdout",
     "output_type": "stream",
     "text": [
      "The sum of the number are > 3\n",
      "The subtraction of the number are > -1\n",
      "The division of the number are > 0.5\n",
      "The multiplication of the number are > 2\n"
     ]
    }
   ],
   "source": [
    "x = eval(input(\"Please enter number 1 > \"))\n",
    "y = eval(input(\"Please enter number 2 > \"))\n",
    "\n",
    "print(\"The sum of the number are > \" + str(x+y))\n",
    "print(\"The subtraction of the number are > \" + str(x-y))\n",
    "print(\"The division of the number are > \" + str(x/y))\n",
    "print(\"The multiplication of the number are > \" + str(x*y))"
   ]
  },
  {
   "cell_type": "markdown",
   "source": [
    "### Lesson #3 : 2021-07-05\n",
    "\n",
    "Simple Interest Calculator"
   ],
   "metadata": {
    "collapsed": false
   }
  },
  {
   "cell_type": "code",
   "execution_count": 9,
   "outputs": [
    {
     "name": "stdout",
     "output_type": "stream",
     "text": [
      "Welcome to Jai Relan's bank.\n",
      "\n",
      "You've requested a loan for Rs 10000 at the interest rate of 200 months for the duration of 12 months.\n",
      "\n",
      "As a bank, we hope that it takes you time to repay your loan so we can profit off you. You'll be paying 30000.0 at the end of the loan duration (12 months).\n",
      "Good day to you...\n",
      "\n",
      "Jai Relan\n"
     ]
    }
   ],
   "source": [
    "principal = int(input(\"Please enter the principal amount for the loan > \"))\n",
    "rate = int(input(\"Please enter the rate of interest you're being given the loan at (PA) > \"))\n",
    "duration = int(input(\"Please enter the number of months you estimate you need a loan for > \"))\n",
    "amount = principal * duration/12 * (100 + rate)/100\n",
    "\n",
    "print(f\"\"\"Welcome to Jai Relan's bank.\n",
    "\n",
    "You've requested a loan for Rs {principal} at the interest rate of {rate} months for the duration of {duration} months.\n",
    "\n",
    "As a bank, we hope that it takes you time to repay your loan so we can profit off you. You'll be paying {amount} at the end of the loan duration ({duration} months).\n",
    "Good day to you...\n",
    "\n",
    "Jai Relan\"\"\")"
   ],
   "metadata": {
    "collapsed": false,
    "pycharm": {
     "name": "#%%\n"
    }
   }
  }
 ],
 "metadata": {
  "kernelspec": {
   "display_name": "Python 3 (ipykernel)",
   "language": "python",
   "name": "python3"
  },
  "language_info": {
   "codemirror_mode": {
    "name": "ipython",
    "version": 3
   },
   "file_extension": ".py",
   "mimetype": "text/x-python",
   "name": "python",
   "nbconvert_exporter": "python",
   "pygments_lexer": "ipython3",
   "version": "3.9.5"
  }
 },
 "nbformat": 4,
 "nbformat_minor": 1
}