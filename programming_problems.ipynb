{
 "cells": [
  {
   "cell_type": "markdown",
   "source": [
    "# List of Programming Problems\n",
    "\n",
    "1. Print the even numbers between 1 and 100.\n",
    "2. Print the odd numbers between 30 and 400.\n",
    "3. To input a number and check if it is a multiple of 3.\n",
    "4. To print the square of numbers from 5 to 50.\n",
    "5. To find the greatest of three numbers.\n",
    "6. To find the largest and smallest of N numbers.\n",
    "7. To input a number, if the number is even multiply it by 100 and print the result\n",
    "otherwise print the number as it is.\n",
    "8. Input the sides of a triangle, print whether the triangle is isosceles or not.\n",
    "9. Input the 3 sides of triangle and print whether its perimeter is greater than the\n",
    "area.\n",
    "10. Write a program that inputs single characters and prints the sum of their ASCII\n",
    "values.\n",
    "11. Write a program to find the roots of a quadratic equation ax2 + bx +c = 0.\n",
    "12. Write a program to input characters from the keyboard and count the number of\n",
    "vowels, white space characters, tab keys and any other characters.\n",
    "13. Write a menu driven program that converts an input temperature from centigrade\n",
    "to farenheit or vice versa, depending on the users choice.\n",
    "14. Suppose electricity costs 6.72 cents per KWh and a state tax of 8% is added,\n",
    "along with a city tax of 3.5%. Write a program that accepts the number of hours\n",
    "and calculates a bill."
   ],
   "metadata": {
    "collapsed": false
   }
  },
  {
   "cell_type": "code",
   "execution_count": null,
   "outputs": [],
   "source": [],
   "metadata": {
    "collapsed": false,
    "pycharm": {
     "name": "#%%\n"
    }
   }
  }
 ],
 "metadata": {
  "kernelspec": {
   "display_name": "Python 3",
   "language": "python",
   "name": "python3"
  },
  "language_info": {
   "codemirror_mode": {
    "name": "ipython",
    "version": 2
   },
   "file_extension": ".py",
   "mimetype": "text/x-python",
   "name": "python",
   "nbconvert_exporter": "python",
   "pygments_lexer": "ipython2",
   "version": "2.7.6"
  }
 },
 "nbformat": 4,
 "nbformat_minor": 0
}