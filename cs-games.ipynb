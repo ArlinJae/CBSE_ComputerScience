{
 "cells": [
  {
   "cell_type": "markdown",
   "metadata": {
    "collapsed": true,
    "pycharm": {
     "name": "#%% md\n"
    }
   },
   "source": []
  },
  {
   "cell_type": "code",
   "source": [
    "import random\n",
    "\n",
    "def guess(x):\n",
    "    random_number = random.randint(1, x)\n",
    "    guess = 0\n",
    "    while guess != random_number:\n",
    "        guess = int(input(f'Guess a number between 1 and {x}: '))\n",
    "        if guess < random_number:\n",
    "            print('Sorry, guess again. Too low.')\n",
    "        elif guess > random_number:\n",
    "            print('Sorry, guess again. Too high.')\n",
    "\n",
    "    print(f'Yay, congrats. You have guessed the number {random_number} correctly!!')\n",
    "\n",
    "def computer_guess(x):\n",
    "    low = 1\n",
    "    high = x\n",
    "    feedback = ''\n",
    "    while feedback != 'c':\n",
    "        if low != high:\n",
    "            guess = random.randint(low, high)\n",
    "        else:\n",
    "            guess = low  # could also be high b/c low = high\n",
    "        feedback = input(f'Is {guess} too high (H), too low (L), or correct (C)?? ').lower()\n",
    "        if feedback == 'h':\n",
    "            high = guess - 1\n",
    "        elif feedback == 'l':\n",
    "            low = guess + 1\n",
    "\n",
    "    print(f'Yay! The computer guessed your number, {guess}, correctly!')\n",
    "\n",
    "\n",
    "guess(10)\n"
   ],
   "metadata": {
    "collapsed": false,
    "pycharm": {
     "name": "#%%\n"
    }
   },
   "execution_count": null,
   "outputs": []
  }
 ],
 "metadata": {
  "kernelspec": {
   "display_name": "Python 3",
   "language": "python",
   "name": "python3"
  },
  "language_info": {
   "codemirror_mode": {
    "name": "ipython",
    "version": 2
   },
   "file_extension": ".py",
   "mimetype": "text/x-python",
   "name": "python",
   "nbconvert_exporter": "python",
   "pygments_lexer": "ipython2",
   "version": "2.7.6"
  }
 },
 "nbformat": 4,
 "nbformat_minor": 0
}