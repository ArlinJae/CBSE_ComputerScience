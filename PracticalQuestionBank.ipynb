{
 "cells": [
  {
   "cell_type": "markdown",
   "metadata": {
    "pycharm": {
     "name": "#%% md\n"
    }
   },
   "source": [
    "# Class 11 : Computer Science Practical File\n",
    "\n",
    "**Name :** Jai Relan\n",
    "\n",
    "**Class & Section :** 11 - B\n",
    "\n",
    "**Date of Submission :** 25th February 2022\n",
    "\n",
    "**Teachers Name :** Ms Sunita Singh\n",
    "\n",
    "**Format :** All questions are solved sequentially. The markdown box contains the question followed by the code box containing the code. In questions which require an input, I've included the input as a comment within the box containing the code or I've tried to print it out along with the output (since I'm worked on Jupyter Notebook and the input is not displayed natively).\n",
    "\n",
    "**Export Instructions :** The code is written within PyCharm's Jupyter Notebook (exported as a .ipynb) - in order to compile this as a PDF, you open the notebook's Jupyter instance on Localhost (http://localhost:8888) and click on the \"Export to LaTeX\" button on the File > Download As menu. Now, go to Overleaf (https://overleaf.com), sign in, and create a blank file in which you can paste the content which you downloaded in the LaTex file.\n",
    "\n",
    "**Index :**\n",
    "- [x] Q1\n",
    "- [x] Q2\n",
    "- [x] Q3\n",
    "- [x] Q4\n",
    "- [ ] Q5\n",
    "- [ ] Q6\n",
    "- [ ] Q7\n",
    "- [ ] Q8\n",
    "- [ ] Q9\n",
    "- [ ] Q10\n",
    "- [ ] Q11\n",
    "- [ ] Q12\n",
    "- [ ] Q13\n",
    "- [ ] Q14\n",
    "- [ ] Q15\n",
    "- [ ] Q16\n",
    "- [ ] Q17\n",
    "- [ ] Q18\n",
    "- [ ] Q19\n",
    "- [ ] Q20\n",
    "- [ ] Q21\n",
    "- [ ] Q22\n",
    "- [ ] Q23\n",
    "- [ ] Q24\n",
    "- [ ] Q25\n",
    "- [ ] Q26\n",
    "- [ ] Q27\n",
    "- [ ] Q28\n",
    "- [ ] Q29\n",
    "- [ ] Q30\n",
    "- [ ] Q31\n",
    "- [ ] Q32\n",
    "- [ ] Q33\n",
    "- [ ] Q34\n",
    "- [ ] Q35\n",
    "- [ ] Q36\n",
    "- [ ] Q37\n",
    "- [ ] Q38\n",
    "- [ ] Q39\n",
    "- [ ] Q40\n",
    "- [ ] Q41\n",
    "- [ ] Q42\n",
    "- [ ] Q43\n",
    "- [ ] Q44\n",
    "- [ ] Q45\n",
    "- [ ] Q46\n",
    "- [ ] Q47\n",
    "- [ ] Q48\n",
    "- [ ] Q49\n",
    "- [ ] Q50\n",
    "- [ ] Q51\n",
    "- [ ] Q52\n",
    "- [ ] Q53\n",
    "- [ ] Q54\n",
    "- [ ] Q55\n",
    "- [ ] Q56\n",
    "- [ ] Q57\n",
    "- [ ] Q58\n",
    "- [ ] Q59\n",
    "- [ ] Q60\n",
    "- [ ] Q61\n",
    "- [ ] Q62\n",
    "- [ ] Q63\n",
    "- [ ] Q64\n",
    "- [ ] Q65\n",
    "- [ ] Q66\n",
    "- [ ] Q67\n",
    "- [ ] Q68\n",
    "- [ ] Q69\n",
    "- [ ] Q70\n",
    "- [ ] Q71\n",
    "- [ ] Q72\n",
    "- [ ] Q73\n",
    "- [ ] Q74\n",
    "- [ ] Q75\n",
    "- [ ] Q76\n",
    "- [ ] Q77\n",
    "- [ ] Q78\n",
    "- [ ] Q79\n",
    "- [ ] Q80"
   ]
  },
  {
   "cell_type": "markdown",
   "metadata": {},
   "source": [
    "Print the even numbers between 1 and 100."
   ]
  },
  {
   "cell_type": "code",
   "execution_count": 13,
   "metadata": {
    "pycharm": {
     "name": "#%%\n"
    }
   },
   "outputs": [
    {
     "name": "stdout",
     "output_type": "stream",
     "text": [
      "0\n",
      "2\n",
      "4\n",
      "6\n",
      "8\n",
      "10\n",
      "12\n",
      "14\n",
      "16\n",
      "18\n",
      "20\n",
      "22\n",
      "24\n",
      "26\n",
      "28\n",
      "30\n",
      "32\n",
      "34\n",
      "36\n",
      "38\n",
      "40\n",
      "42\n",
      "44\n",
      "46\n",
      "48\n",
      "50\n",
      "52\n",
      "54\n",
      "56\n",
      "58\n",
      "60\n",
      "62\n",
      "64\n",
      "66\n",
      "68\n",
      "70\n",
      "72\n",
      "74\n",
      "76\n",
      "78\n",
      "80\n",
      "82\n",
      "84\n",
      "86\n",
      "88\n",
      "90\n",
      "92\n",
      "94\n",
      "96\n",
      "98\n",
      "100\n"
     ]
    }
   ],
   "source": [
    "# Q1\n",
    "for i in range(0 ,101, 2):\n",
    "    print(i)"
   ]
  },
  {
   "cell_type": "markdown",
   "metadata": {
    "pycharm": {
     "name": "#%% md\n"
    }
   },
   "source": [
    "Print the odd numbers between 30 and 400."
   ]
  },
  {
   "cell_type": "code",
   "execution_count": 9,
   "metadata": {
    "pycharm": {
     "name": "#%%\n"
    }
   },
   "outputs": [
    {
     "name": "stdout",
     "output_type": "stream",
     "text": [
      "31\n",
      "33\n",
      "35\n",
      "37\n",
      "39\n",
      "41\n",
      "43\n",
      "45\n",
      "47\n",
      "49\n",
      "51\n",
      "53\n",
      "55\n",
      "57\n",
      "59\n",
      "61\n",
      "63\n",
      "65\n",
      "67\n",
      "69\n",
      "71\n",
      "73\n",
      "75\n",
      "77\n",
      "79\n",
      "81\n",
      "83\n",
      "85\n",
      "87\n",
      "89\n",
      "91\n",
      "93\n",
      "95\n",
      "97\n",
      "99\n",
      "101\n",
      "103\n",
      "105\n",
      "107\n",
      "109\n",
      "111\n",
      "113\n",
      "115\n",
      "117\n",
      "119\n",
      "121\n",
      "123\n",
      "125\n",
      "127\n",
      "129\n",
      "131\n",
      "133\n",
      "135\n",
      "137\n",
      "139\n",
      "141\n",
      "143\n",
      "145\n",
      "147\n",
      "149\n",
      "151\n",
      "153\n",
      "155\n",
      "157\n",
      "159\n",
      "161\n",
      "163\n",
      "165\n",
      "167\n",
      "169\n",
      "171\n",
      "173\n",
      "175\n",
      "177\n",
      "179\n",
      "181\n",
      "183\n",
      "185\n",
      "187\n",
      "189\n",
      "191\n",
      "193\n",
      "195\n",
      "197\n",
      "199\n",
      "201\n",
      "203\n",
      "205\n",
      "207\n",
      "209\n",
      "211\n",
      "213\n",
      "215\n",
      "217\n",
      "219\n",
      "221\n",
      "223\n",
      "225\n",
      "227\n",
      "229\n",
      "231\n",
      "233\n",
      "235\n",
      "237\n",
      "239\n",
      "241\n",
      "243\n",
      "245\n",
      "247\n",
      "249\n",
      "251\n",
      "253\n",
      "255\n",
      "257\n",
      "259\n",
      "261\n",
      "263\n",
      "265\n",
      "267\n",
      "269\n",
      "271\n",
      "273\n",
      "275\n",
      "277\n",
      "279\n",
      "281\n",
      "283\n",
      "285\n",
      "287\n",
      "289\n",
      "291\n",
      "293\n",
      "295\n",
      "297\n",
      "299\n",
      "301\n",
      "303\n",
      "305\n",
      "307\n",
      "309\n",
      "311\n",
      "313\n",
      "315\n",
      "317\n",
      "319\n",
      "321\n",
      "323\n",
      "325\n",
      "327\n",
      "329\n",
      "331\n",
      "333\n",
      "335\n",
      "337\n",
      "339\n",
      "341\n",
      "343\n",
      "345\n",
      "347\n",
      "349\n",
      "351\n",
      "353\n",
      "355\n",
      "357\n",
      "359\n",
      "361\n",
      "363\n",
      "365\n",
      "367\n",
      "369\n",
      "371\n",
      "373\n",
      "375\n",
      "377\n",
      "379\n",
      "381\n",
      "383\n",
      "385\n",
      "387\n",
      "389\n",
      "391\n",
      "393\n",
      "395\n",
      "397\n",
      "399\n"
     ]
    }
   ],
   "source": [
    "# Q2\n",
    "for i in range(31, 401, 2):\n",
    "    print(i)"
   ]
  },
  {
   "cell_type": "markdown",
   "metadata": {
    "pycharm": {
     "name": "#%% md\n"
    }
   },
   "source": [
    "To input a number and chek if it's a multiple of 3."
   ]
  },
  {
   "cell_type": "code",
   "execution_count": 1,
   "metadata": {
    "pycharm": {
     "name": "#%%\n"
    }
   },
   "outputs": [
    {
     "name": "stdout",
     "output_type": "stream",
     "text": [
      "Given input 12 is a multiple of 3: True\n"
     ]
    }
   ],
   "source": [
    "# Q3\n",
    "input_number = int(input(\"Enter a number: \"))\n",
    "print(\"Given input\", input_number, \"is a multiple of 3: \" + str(input_number % 3 == 0))\n",
    "\n",
    "# Input given by user = 6"
   ]
  },
  {
   "cell_type": "markdown",
   "metadata": {
    "pycharm": {
     "name": "#%% md\n"
    }
   },
   "source": [
    "To print the square of numbers from 5 to 50."
   ]
  },
  {
   "cell_type": "code",
   "execution_count": 11,
   "metadata": {
    "pycharm": {
     "name": "#%%\n"
    }
   },
   "outputs": [
    {
     "name": "stdout",
     "output_type": "stream",
     "text": [
      "25\n",
      "36\n",
      "49\n",
      "64\n",
      "81\n",
      "100\n",
      "121\n",
      "144\n",
      "169\n",
      "196\n",
      "225\n",
      "256\n",
      "289\n",
      "324\n",
      "361\n",
      "400\n",
      "441\n",
      "484\n",
      "529\n",
      "576\n",
      "625\n",
      "676\n",
      "729\n",
      "784\n",
      "841\n",
      "900\n",
      "961\n",
      "1024\n",
      "1089\n",
      "1156\n",
      "1225\n",
      "1296\n",
      "1369\n",
      "1444\n",
      "1521\n",
      "1600\n",
      "1681\n",
      "1764\n",
      "1849\n",
      "1936\n",
      "2025\n",
      "2116\n",
      "2209\n",
      "2304\n",
      "2401\n",
      "2500\n"
     ]
    }
   ],
   "source": [
    "# Q4\n",
    "for i in range(5, 51):\n",
    "    print(i**2)"
   ]
  },
  {
   "cell_type": "markdown",
   "metadata": {
    "collapsed": true,
    "pycharm": {
     "name": "#%% md\n"
    }
   },
   "source": [
    "Write a program that allows an integer to be entered by the user. The program should then count the number of times the number has to be doubled before it reaches one million."
   ]
  },
  {
   "cell_type": "code",
   "execution_count": null,
   "metadata": {
    "pycharm": {
     "name": "#%%\n"
    }
   },
   "outputs": [],
   "source": [
    "# Q32\n",
    "input_integer = int(input(\"Enter an integer: \"))\n",
    "count = 0\n",
    "while input_integer < 1000000:\n",
    "    input_integer *= 2\n",
    "    count += 1\n",
    "print(count)"
   ]
  },
  {
   "cell_type": "markdown",
   "metadata": {},
   "source": [
    "To calculate the square roots of all integers between 1 and 500 and print only\n",
    "those roots which are integers(whole numbers).\n"
   ]
  },
  {
   "cell_type": "code",
   "execution_count": null,
   "metadata": {
    "pycharm": {
     "name": "#%%\n"
    }
   },
   "outputs": [],
   "source": [
    "# Q35\n",
    "for i in range(1, 501):\n",
    "    if i ** 0.5 % 1 == 0:\n",
    "        print(i)"
   ]
  },
  {
   "cell_type": "markdown",
   "metadata": {
    "pycharm": {
     "name": "#%% md\n"
    }
   },
   "source": [
    "The expression rand( )%100 always generates a number between 0 and 99. Generate 100 such numbers and print out the number of numbers in each decile (0 to 9, 10 to 19, 20 to 29 etc.)"
   ]
  },
  {
   "cell_type": "code",
   "execution_count": 3,
   "metadata": {
    "pycharm": {
     "name": "#%%\n"
    }
   },
   "outputs": [
    {
     "name": "stdout",
     "output_type": "stream",
     "text": [
      "{'0-9': 8, '10-19': 9, '20-29': 11, '30-39': 8, '40-49': 7, '50-59': 13, '60-69': 10, '70-79': 8, '80-89': 11, '90-99': 16}\n"
     ]
    }
   ],
   "source": [
    "# Q38\n",
    "import random\n",
    "random_numbers = {\n",
    "    \"0-9\": 0,\n",
    "    \"10-19\": 0,\n",
    "    \"20-29\": 0,\n",
    "    \"30-39\": 0,\n",
    "    \"40-49\": 0,\n",
    "    \"50-59\": 0,\n",
    "    \"60-69\": 0,\n",
    "    \"70-79\": 0,\n",
    "    \"80-89\": 0,\n",
    "    \"90-99\": 0\n",
    "}\n",
    "\n",
    "for i in range(101):\n",
    "    rand = int(random.randint(0, 99) / 10) * 10\n",
    "    random_numbers[str(rand) + \"-\" + str(rand + 9)] += 1\n",
    "\n",
    "print(random_numbers)"
   ]
  },
  {
   "cell_type": "markdown",
   "metadata": {
    "pycharm": {
     "name": "#%% md\n"
    }
   },
   "source": [
    "Write a program to generate 1000 random numbers between 5 and 20. Prepare a\n",
    "frequency table for the random numbers lying between (i) 6 – 10 (ii) 11 – 15 and\n",
    "(iii) 16 – 20. also print the random numbers occurring in each interval separately."
   ]
  },
  {
   "cell_type": "code",
   "execution_count": 2,
   "metadata": {
    "pycharm": {
     "name": "#%%\n"
    }
   },
   "outputs": [
    {
     "name": "stdout",
     "output_type": "stream",
     "text": [
      "Frequency table >\n",
      "{'6-10': 237, '11-15': 276, '16-20': 276}\n",
      "6-10: 237\n",
      "11-15: 276\n",
      "16-20: 276\n"
     ]
    }
   ],
   "source": [
    "# Q41\n",
    "import random\n",
    "random_numbers = {\n",
    "    \"6-10\": 0,\n",
    "    \"11-15\": 0,\n",
    "    \"16-20\": 0\n",
    "}\n",
    "for i in range(1, 1001):\n",
    "    rand = random.uniform(5, 20)\n",
    "    if rand >= 6 and rand <= 10:\n",
    "        random_numbers['6-10'] += 1\n",
    "    elif rand >= 11 and rand <= 15:\n",
    "        random_numbers['11-15'] = random_numbers.get('11-15') + 1\n",
    "    elif rand >= 16 and rand <= 20:\n",
    "        random_numbers['16-20'] = random_numbers.get('16-20') + 1\n",
    "\n",
    "print(\"Frequency table >\")\n",
    "print(\"6-10:\", random_numbers.get('6-10'))\n",
    "print(\"11-15:\", random_numbers.get('11-15'))\n",
    "print(\"16-20:\", random_numbers.get('16-20'))"
   ]
  },
  {
   "cell_type": "markdown",
   "metadata": {},
   "source": [
    "The number 151 is a prime palindrome because it is both a prime number and a\n",
    "palindrome. Write a program that finds all prime palindromes between two\n",
    "numbers a and b. You may assume that a and b are between 1 and 5000."
   ]
  },
  {
   "cell_type": "code",
   "execution_count": 5,
   "metadata": {
    "pycharm": {
     "name": "#%%\n"
    }
   },
   "outputs": [
    {
     "name": "stdout",
     "output_type": "stream",
     "text": [
      "101\n",
      "131\n",
      "151\n",
      "181\n",
      "191\n",
      "313\n",
      "353\n",
      "373\n",
      "383\n",
      "727\n",
      "757\n",
      "787\n",
      "797\n",
      "919\n",
      "929\n"
     ]
    }
   ],
   "source": [
    "# Q44\n",
    "def isprime(number):\n",
    "    if number == 1:\n",
    "        return False\n",
    "    for i in range(2, number):\n",
    "        if number % i == 0:\n",
    "            return False\n",
    "    return True\n",
    "\n",
    "for number in range(int(input(\"Please input an integer 'a' > \")), int(input(\"Please inbput an integer 'b' > \"))):\n",
    "    if isprime(number) and str(number) == str(number)[::-1]:\n",
    "        print(number)"
   ]
  },
  {
   "cell_type": "markdown",
   "metadata": {
    "pycharm": {
     "name": "#%% md\n"
    }
   },
   "source": [
    "Write a program that prompts the user to enter 5 exam marks (design your\n",
    "program such that it would be easy to change if we wanted it to work for more\n",
    "than 5 exams). The program then displays the average mark, the highest mark,\n",
    "and number of marks entered less than the average mark. For example, when\n",
    "executing the program and inputting 20, 30, 10, 40, and 50 the running session\n",
    "will look as follows:\n",
    "\n",
    "Enter a mark: 20\n",
    "\n",
    "Enter a mark: 30\n",
    "\n",
    "Enter a mark: 10\n",
    "\n",
    "Enter a mark: 40\n",
    "\n",
    "Enter a mark: 50\n",
    "\n",
    "Average mark is: 30.0\n",
    "\n",
    "Highest mark is: 50\n",
    "\n",
    "Number of marks less than the average: 2"
   ]
  },
  {
   "cell_type": "code",
   "execution_count": 6,
   "metadata": {
    "pycharm": {
     "name": "#%%\n"
    }
   },
   "outputs": [
    {
     "name": "stdout",
     "output_type": "stream",
     "text": [
      "Average mark is: 25.0\n",
      "Highest mark is: 40\n",
      "Number of marks less than the average: 2\n"
     ]
    }
   ],
   "source": [
    "# Q47\n",
    "marks = []\n",
    "for exam in range(1, 6): #replace 6 with the number of exams you want to input\n",
    "    marks.append(int(input(\"Enter a mark: \")))\n",
    "print(\"Average mark is:\", sum(marks)/len(marks))\n",
    "print(\"Highest mark is:\", max(marks))\n",
    "print(\"Number of marks less than the average:\", len([mark for mark in marks if mark < sum(marks)/len(marks)]))"
   ]
  },
  {
   "cell_type": "markdown",
   "metadata": {
    "pycharm": {
     "name": "#%% md\n"
    }
   },
   "source": [
    "Read two integers, representing a rate of pay (pence per hour) and a number of\n",
    "hours. Print out the total pay, with hours up to 40 being paid at basic rate, from 40\n",
    "to 60 at rate-and-a-half, above 60 at double-rate. Print the pay as pounds to two\n",
    "decimal places.\n",
    "\n",
    "Terminate the loop when a zero rate is encountered. At the end of the\n",
    "loop, print out the total pay.\n",
    "The code for computing the pay from the rate and hours is to be written\n",
    "as a function.\n",
    "\n",
    "The recommended output format is something like:\n",
    "\n",
    "Pay at 200 pence/hr for 38 hours is 76.00 pounds\n",
    "\n",
    "Pay at 220 pence/hr for 48 hours is 114.40 pounds\n",
    "\n",
    "Pay at 240 pence/hr for 68 hours is 206.40 pounds\n",
    "\n",
    "Pay at 260 pence/hr for 48 hours is 135.20 pounds\n",
    "\n",
    "Pay at 280 pence/hr for 68 hours is 240.80 pounds\n",
    "\n",
    "Pay at 300 pence/hr for 48 hours is 156.00 pounds\n",
    "\n",
    "Total pay is 928.80 pounds"
   ]
  },
  {
   "cell_type": "code",
   "execution_count": 7,
   "metadata": {
    "pycharm": {
     "name": "#%%\n"
    }
   },
   "outputs": [
    {
     "name": "stdout",
     "output_type": "stream",
     "text": [
      "Pay at 200 pence/hr for 48 hours is 10400.0 pounds\n"
     ]
    }
   ],
   "source": [
    "# Q50\n",
    "rate, hours = int(input(\"Enter the rate: \")), int(input(\"Enter the hours: \"))\n",
    "def pay(rate, hours):\n",
    "    if hours <= 40:\n",
    "        return rate * hours\n",
    "    elif hours > 40 and hours <= 60:\n",
    "        return rate * 40 + (rate * 1.5 * (hours - 40))\n",
    "    elif hours > 60:\n",
    "        return rate * 40 + (rate * 1.5 * 40) + (rate * 2 * (hours - 60))\n",
    "print(\"Pay at\", rate, \"pence/hr for\", hours, \"hours is\", pay(rate, hours), \"pounds\")"
   ]
  },
  {
   "cell_type": "markdown",
   "metadata": {
    "pycharm": {
     "name": "#%% md\n"
    }
   },
   "source": [
    "Write a program which inputs an integer number representing the age of a person\n",
    "(using the class SimpleInput), and prints the number out followed by the word\n",
    "\"Minor\" if the number (age) is less than 18, the word \"Pensioner\" if the number is\n",
    "greater than 65, and the word \"Tax-payer\" otherwise."
   ]
  },
  {
   "cell_type": "code",
   "execution_count": null,
   "metadata": {
    "pycharm": {
     "name": "#%%\n"
    }
   },
   "outputs": [],
   "source": [
    "# Q51\n",
    "import simpleinput\n",
    "simpleinput.Input()"
   ]
  },
  {
   "cell_type": "markdown",
   "metadata": {
    "pycharm": {
     "name": "#%% md\n"
    }
   },
   "source": [
    "Write an algorithm to produce an n times multiplication table ( n less than or\n",
    "equal to 10)."
   ]
  },
  {
   "cell_type": "code",
   "execution_count": 9,
   "metadata": {
    "pycharm": {
     "name": "#%%\n"
    }
   },
   "outputs": [
    {
     "name": "stdout",
     "output_type": "stream",
     "text": [
      "1 2 3 4 \n",
      "2 4 6 8 \n",
      "3 6 9 12 \n",
      "4 8 12 16 \n"
     ]
    }
   ],
   "source": [
    "# Q54\n",
    "n = int(input(\"Enter a number: \"))\n",
    "for i in range(1, n+1):\n",
    "    for j in range(1, n+1):\n",
    "        print(i * j, end = \" \")\n",
    "    print()"
   ]
  },
  {
   "cell_type": "markdown",
   "metadata": {
    "pycharm": {
     "name": "#%% md\n"
    }
   },
   "source": [
    "Write a program that inputs numbers into an array and then inputs a constant. The\n",
    "program should count the number of elements that are less than the constant,\n",
    "equal to it and greater than it."
   ]
  },
  {
   "cell_type": "code",
   "execution_count": 13,
   "metadata": {
    "pycharm": {
     "name": "#%%\n"
    }
   },
   "outputs": [
    {
     "name": "stdout",
     "output_type": "stream",
     "text": [
      "Number of elements less than the constant: 0\n",
      "Number of elements equal to the constant: 1\n",
      "Number of elements greater than the constant: 3\n"
     ]
    }
   ],
   "source": [
    "# Q57\n",
    "arr = list(map(int, input(\"Enter a list of numbers: \").split()))\n",
    "constant = int(input(\"Enter a constant: \"))\n",
    "print(\"Number of elements less than the constant:\", len([x for x in arr if x < constant]))\n",
    "print(\"Number of elements equal to the constant:\", len([x for x in arr if x == constant]))\n",
    "print(\"Number of elements greater than the constant:\", len([x for x in arr if x > constant]))"
   ]
  },
  {
   "cell_type": "markdown",
   "metadata": {
    "pycharm": {
     "name": "#%% md\n"
    }
   },
   "source": [
    "Write a program to input the examination marks for a class of 10 students,\n",
    "studying 6 subjects into a 2-D array. Calculate and print the average marks\n",
    "obtained by the class in each subject."
   ]
  },
  {
   "cell_type": "code",
   "execution_count": null,
   "metadata": {
    "pycharm": {
     "name": "#%%\n"
    }
   },
   "outputs": [],
   "source": [
    "# Q60\n",
    "marks = [\n",
    "    [int(input(\"Marks Person #1 Subject #1: \")),\n",
    "     int(input(\"Marks Person #2 Subject #1: \")),\n",
    "     int(input(\"Marks Person #3 Subject #1: \")),\n",
    "     int(input(\"Marks Person #4 Subject #1: \")),\n",
    "     int(input(\"Marks Person #5 Subject #1: \")),\n",
    "     int(input(\"Marks Person #6 Subject #1: \")),\n",
    "     int(input(\"Marks Person #7 Subject #1: \")),\n",
    "     int(input(\"Marks Person #8 Subject #1: \")),\n",
    "     int(input(\"Marks Person #9 Subject #1: \")),\n",
    "     int(input(\"Marks Person #10 Subject #1: \"))],\n",
    "    [int(input(\"Marks Person #1 Subject #2: \")),\n",
    "     int(input(\"Marks Person #2 Subject #2: \")),\n",
    "     int(input(\"Marks Person #3 Subject #2: \")),\n",
    "     int(input(\"Marks Person #4 Subject #2: \")),\n",
    "     int(input(\"Marks Person #5 Subject #2: \")),\n",
    "     int(input(\"Marks Person #6 Subject #2: \")),\n",
    "     int(input(\"Marks Person #7 Subject #2: \")),\n",
    "     int(input(\"Marks Person #8 Subject #2: \")),\n",
    "     int(input(\"Marks Person #9 Subject #2: \")),\n",
    "     int(input(\"Marks Person #10 Subject #2: \"))],\n",
    "    [int(input(\"Marks Person #1 Subject #3: \")),\n",
    "     int(input(\"Marks Person #2 Subject #3: \")),\n",
    "     int(input(\"Marks Person #3 Subject #3: \")),\n",
    "     int(input(\"Marks Person #4 Subject #3: \")),\n",
    "     int(input(\"Marks Person #5 Subject #3: \")),\n",
    "     int(input(\"Marks Person #6 Subject #3: \")),\n",
    "     int(input(\"Marks Person #7 Subject #3: \")),\n",
    "     int(input(\"Marks Person #8 Subject #3: \")),\n",
    "     int(input(\"Marks Person #9 Subject #3: \")),\n",
    "     int(input(\"Marks Person #10 Subject #3: \"))],\n",
    "    [int(input(\"Marks Person #1 Subject #4: \")),\n",
    "     int(input(\"Marks Person #2 Subject #4: \")),\n",
    "     int(input(\"Marks Person #3 Subject #4: \")),\n",
    "     int(input(\"Marks Person #4 Subject #4: \")),\n",
    "     int(input(\"Marks Person #5 Subject #4: \")),\n",
    "     int(input(\"Marks Person #6 Subject #4: \")),\n",
    "     int(input(\"Marks Person #7 Subject #4: \")),\n",
    "     int(input(\"Marks Person #8 Subject #4: \")),\n",
    "     int(input(\"Marks Person #9 Subject #4: \")),\n",
    "     int(input(\"Marks Person #10 Subject #4: \"))],\n",
    "    [int(input(\"Marks Person #1 Subject #5: \")),\n",
    "     int(input(\"Marks Person #2 Subject #5: \")),\n",
    "     int(input(\"Marks Person #3 Subject #5: \")),\n",
    "     int(input(\"Marks Person #4 Subject #5: \")),\n",
    "     int(input(\"Marks Person #5 Subject #5: \")),\n",
    "     int(input(\"Marks Person #6 Subject #5: \")),\n",
    "     int(input(\"Marks Person #7 Subject #5: \")),\n",
    "     int(input(\"Marks Person #8 Subject #5: \")),\n",
    "     int(input(\"Marks Person #9 Subject #5: \")),\n",
    "     int(input(\"Marks Person #10 Subject #5: \"))],\n",
    "    [int(input(\"Marks Person #1 Subject #6: \")),\n",
    "     int(input(\"Marks Person #2 Subject #6: \")),\n",
    "     int(input(\"Marks Person #3 Subject #6: \")),\n",
    "     int(input(\"Marks Person #4 Subject #6: \")),\n",
    "     int(input(\"Marks Person #5 Subject #6: \")),\n",
    "     int(input(\"Marks Person #6 Subject #6: \")),\n",
    "     int(input(\"Marks Person #7 Subject #6: \")),\n",
    "     int(input(\"Marks Person #8 Subject #6: \")),\n",
    "     int(input(\"Marks Person #9 Subject #6: \")),\n",
    "     int(input(\"Marks Person #10 Subject #6: \"))]\n",
    "    ]\n",
    "\n",
    "print(\"Average marks in subject #1:\", sum(marks[0]) / len(marks[0]))\n",
    "print(\"Average marks in subject #2:\", sum(marks[1]) / len(marks[1]))\n",
    "print(\"Average marks in subject #3:\", sum(marks[2]) / len(marks[2]))\n",
    "print(\"Average marks in subject #4:\", sum(marks[3]) / len(marks[3]))\n",
    "print(\"Average marks in subject #5:\", sum(marks[4]) / len(marks[4]))\n",
    "print(\"Average marks in subject #6:\", sum(marks[5]) / len(marks[5]))"
   ]
  },
  {
   "cell_type": "markdown",
   "metadata": {},
   "source": [
    "Write a program to input a word and check whether it is palindrome or not."
   ]
  },
  {
   "cell_type": "code",
   "execution_count": null,
   "metadata": {
    "pycharm": {
     "name": "#%%\n"
    }
   },
   "outputs": [],
   "source": [
    "# Q63\n",
    "string = input(\"Enter a word: \")\n",
    "print(string == string[::-1])"
   ]
  },
  {
   "cell_type": "markdown",
   "metadata": {
    "pycharm": {
     "name": "#%% md\n"
    }
   },
   "source": [
    "Write a program to input a sentence and delete from it all occurrences of the word\n",
    "“the” from it."
   ]
  }
 ],
 "metadata": {
  "kernelspec": {
   "display_name": "Python 3 (ipykernel)",
   "language": "python",
   "name": "python3"
  },
  "language_info": {
   "codemirror_mode": {
    "name": "ipython",
    "version": 3
   },
   "file_extension": ".py",
   "mimetype": "text/x-python",
   "name": "python",
   "nbconvert_exporter": "python",
   "pygments_lexer": "ipython3",
   "version": "3.9.7"
  }
 },
 "nbformat": 4,
 "nbformat_minor": 1
}