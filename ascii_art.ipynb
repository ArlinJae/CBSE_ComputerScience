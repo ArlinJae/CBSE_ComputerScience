{
 "cells": [
  {
   "cell_type": "code",
   "execution_count": 3,
   "outputs": [],
   "source": [
    "num = int(input(\"Please enter a number> \"))\n",
    "for i in range(2, num):\n",
    "    if num % i == 0:\n",
    "        exit"
   ],
   "metadata": {
    "collapsed": false,
    "pycharm": {
     "name": "#%%\n"
    }
   }
  },
  {
   "cell_type": "code",
   "execution_count": 7,
   "metadata": {
    "collapsed": true
   },
   "outputs": [
    {
     "name": "stdout",
     "output_type": "stream",
     "text": [
      "\n",
      "\n",
      " * *\n",
      "  ** **\n",
      "   *** ***\n",
      "    **** ****\n",
      "     ***** *****\n",
      "      ****** ******\n",
      "       ******* *******\n",
      "        ******** ********\n",
      "         ********* *********\n",
      "          ********** **********\n",
      "           *********** ***********\n",
      " \n",
      " ********************************* \n",
      "  ******************************* \n",
      "   ***************************** \n",
      "    *************************** \n",
      "\n",
      "\n"
     ]
    }
   ],
   "source": [
    "char =  input (\"Enter the character to use (e.g. or X): \")\n",
    "print (\"\\n\")\n",
    "for r in range (1, 12):\n",
    "    sailChars = ( (r- 1) * 2 + 1) // 2 # number of chars to print for\n",
    "    spaces = (15 - sailChars)\n",
    "    print (\" \" * sailChars, end = \" \")\n",
    "    print (char * (sailChars + 1), end='')\n",
    "    print (\" \", end='')\n",
    "    print (char * (sailChars + 1))\n",
    "print(\" \")\n",
    "\n",
    "for r in range (1, 5): # HULL OF BOAT\n",
    "    print (\" \" * r, end='')\n",
    "    for n in range (1, (30 + (6-(r*2)))) :\n",
    "        print (char, end='')\n",
    "    print (\" \")\n",
    "print (\"\\n\")"
   ]
  }
 ],
 "metadata": {
  "kernelspec": {
   "display_name": "Python 3",
   "language": "python",
   "name": "python3"
  },
  "language_info": {
   "codemirror_mode": {
    "name": "ipython",
    "version": 2
   },
   "file_extension": ".py",
   "mimetype": "text/x-python",
   "name": "python",
   "nbconvert_exporter": "python",
   "pygments_lexer": "ipython2",
   "version": "2.7.6"
  }
 },
 "nbformat": 4,
 "nbformat_minor": 0
}