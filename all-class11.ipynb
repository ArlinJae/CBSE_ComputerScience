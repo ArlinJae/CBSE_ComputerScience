{
 "cells": [
  {
   "cell_type": "markdown",
   "source": [
    "Print the even numbers between 1 and 100."
   ],
   "metadata": {
    "collapsed": false,
    "pycharm": {
     "name": "#%% md\n"
    }
   }
  },
  {
   "cell_type": "code",
   "execution_count": 1,
   "outputs": [
    {
     "name": "stdout",
     "output_type": "stream",
     "text": [
      "2\n",
      "4\n",
      "6\n",
      "8\n",
      "10\n",
      "12\n",
      "14\n",
      "16\n",
      "18\n",
      "20\n",
      "22\n",
      "24\n",
      "26\n",
      "28\n",
      "30\n",
      "32\n",
      "34\n",
      "36\n",
      "38\n",
      "40\n",
      "42\n",
      "44\n",
      "46\n",
      "48\n",
      "50\n",
      "52\n",
      "54\n",
      "56\n",
      "58\n",
      "60\n",
      "62\n",
      "64\n",
      "66\n",
      "68\n",
      "70\n",
      "72\n",
      "74\n",
      "76\n",
      "78\n",
      "80\n",
      "82\n",
      "84\n",
      "86\n",
      "88\n",
      "90\n",
      "92\n",
      "94\n",
      "96\n",
      "98\n",
      "100\n"
     ]
    }
   ],
   "source": [
    "for i in range(2, 101, 2): print(i)"
   ],
   "metadata": {
    "collapsed": false,
    "pycharm": {
     "name": "#%%\n"
    }
   }
  },
  {
   "cell_type": "markdown",
   "source": [
    "Print the odd numbers between 30 and 400."
   ],
   "metadata": {
    "collapsed": false,
    "pycharm": {
     "name": "#%% md\n"
    }
   }
  },
  {
   "cell_type": "code",
   "execution_count": 2,
   "outputs": [
    {
     "name": "stdout",
     "output_type": "stream",
     "text": [
      "31\n",
      "33\n",
      "35\n",
      "37\n",
      "39\n",
      "41\n",
      "43\n",
      "45\n",
      "47\n",
      "49\n",
      "51\n",
      "53\n",
      "55\n",
      "57\n",
      "59\n",
      "61\n",
      "63\n",
      "65\n",
      "67\n",
      "69\n",
      "71\n",
      "73\n",
      "75\n",
      "77\n",
      "79\n",
      "81\n",
      "83\n",
      "85\n",
      "87\n",
      "89\n",
      "91\n",
      "93\n",
      "95\n",
      "97\n",
      "99\n",
      "101\n",
      "103\n",
      "105\n",
      "107\n",
      "109\n",
      "111\n",
      "113\n",
      "115\n",
      "117\n",
      "119\n",
      "121\n",
      "123\n",
      "125\n",
      "127\n",
      "129\n",
      "131\n",
      "133\n",
      "135\n",
      "137\n",
      "139\n",
      "141\n",
      "143\n",
      "145\n",
      "147\n",
      "149\n",
      "151\n",
      "153\n",
      "155\n",
      "157\n",
      "159\n",
      "161\n",
      "163\n",
      "165\n",
      "167\n",
      "169\n",
      "171\n",
      "173\n",
      "175\n",
      "177\n",
      "179\n",
      "181\n",
      "183\n",
      "185\n",
      "187\n",
      "189\n",
      "191\n",
      "193\n",
      "195\n",
      "197\n",
      "199\n",
      "201\n",
      "203\n",
      "205\n",
      "207\n",
      "209\n",
      "211\n",
      "213\n",
      "215\n",
      "217\n",
      "219\n",
      "221\n",
      "223\n",
      "225\n",
      "227\n",
      "229\n",
      "231\n",
      "233\n",
      "235\n",
      "237\n",
      "239\n",
      "241\n",
      "243\n",
      "245\n",
      "247\n",
      "249\n",
      "251\n",
      "253\n",
      "255\n",
      "257\n",
      "259\n",
      "261\n",
      "263\n",
      "265\n",
      "267\n",
      "269\n",
      "271\n",
      "273\n",
      "275\n",
      "277\n",
      "279\n",
      "281\n",
      "283\n",
      "285\n",
      "287\n",
      "289\n",
      "291\n",
      "293\n",
      "295\n",
      "297\n",
      "299\n",
      "301\n",
      "303\n",
      "305\n",
      "307\n",
      "309\n",
      "311\n",
      "313\n",
      "315\n",
      "317\n",
      "319\n",
      "321\n",
      "323\n",
      "325\n",
      "327\n",
      "329\n",
      "331\n",
      "333\n",
      "335\n",
      "337\n",
      "339\n",
      "341\n",
      "343\n",
      "345\n",
      "347\n",
      "349\n",
      "351\n",
      "353\n",
      "355\n",
      "357\n",
      "359\n",
      "361\n",
      "363\n",
      "365\n",
      "367\n",
      "369\n",
      "371\n",
      "373\n",
      "375\n",
      "377\n",
      "379\n",
      "381\n",
      "383\n",
      "385\n",
      "387\n",
      "389\n",
      "391\n",
      "393\n",
      "395\n",
      "397\n",
      "399\n"
     ]
    }
   ],
   "source": [
    "for i in range(31, 400, 2): print(i)"
   ],
   "metadata": {
    "collapsed": false,
    "pycharm": {
     "name": "#%%\n"
    }
   }
  },
  {
   "cell_type": "markdown",
   "source": [
    "To input a number and check if it is a multiple of 3."
   ],
   "metadata": {
    "collapsed": false,
    "pycharm": {
     "name": "#%% md\n"
    }
   }
  },
  {
   "cell_type": "code",
   "execution_count": 4,
   "outputs": [
    {
     "name": "stdout",
     "output_type": "stream",
     "text": [
      "True\n"
     ]
    }
   ],
   "source": [
    "print(int(input(\"Please enter a number >\")) % 3 == 0)"
   ],
   "metadata": {
    "collapsed": false,
    "pycharm": {
     "name": "#%%\n"
    }
   }
  },
  {
   "cell_type": "markdown",
   "source": [
    "To print the square of numbers from 5 to 50."
   ],
   "metadata": {
    "collapsed": false,
    "pycharm": {
     "name": "#%% md\n"
    }
   }
  },
  {
   "cell_type": "code",
   "execution_count": 6,
   "outputs": [
    {
     "name": "stdout",
     "output_type": "stream",
     "text": [
      "25\n",
      "36\n",
      "49\n",
      "64\n",
      "81\n",
      "100\n",
      "121\n",
      "144\n",
      "169\n",
      "196\n",
      "225\n",
      "256\n",
      "289\n",
      "324\n",
      "361\n",
      "400\n",
      "441\n",
      "484\n",
      "529\n",
      "576\n",
      "625\n",
      "676\n",
      "729\n",
      "784\n",
      "841\n",
      "900\n",
      "961\n",
      "1024\n",
      "1089\n",
      "1156\n",
      "1225\n",
      "1296\n",
      "1369\n",
      "1444\n",
      "1521\n",
      "1600\n",
      "1681\n",
      "1764\n",
      "1849\n",
      "1936\n",
      "2025\n",
      "2116\n",
      "2209\n",
      "2304\n",
      "2401\n",
      "2500\n"
     ]
    }
   ],
   "source": [
    "for i in range(5, 51): print(i ** 2)"
   ],
   "metadata": {
    "collapsed": false,
    "pycharm": {
     "name": "#%%\n"
    }
   }
  },
  {
   "cell_type": "markdown",
   "source": [
    "To find the greatest of three numbers.\n",
    "\n",
    "_Question Vague ; output maximum of three numbers?_"
   ],
   "metadata": {
    "collapsed": false,
    "pycharm": {
     "name": "#%% md\n"
    }
   }
  },
  {
   "cell_type": "code",
   "execution_count": 9,
   "outputs": [
    {
     "name": "stdout",
     "output_type": "stream",
     "text": [
      "12\n"
     ]
    }
   ],
   "source": [
    "numbers = [int(input(\"Number #1 >\")), int(input(\"Number #2 >\")), int(input(\"Number #3 >\"))]\n",
    "print(max(numbers))"
   ],
   "metadata": {
    "collapsed": false,
    "pycharm": {
     "name": "#%%\n"
    }
   }
  },
  {
   "cell_type": "markdown",
   "source": [
    "# TODO To find the largest and smallest of N numbers."
   ],
   "metadata": {
    "collapsed": false,
    "pycharm": {
     "name": "#%% md\n"
    }
   }
  },
  {
   "cell_type": "code",
   "execution_count": 7,
   "outputs": [
    {
     "ename": "SyntaxError",
     "evalue": "invalid syntax (2743663617.py, line 2)",
     "output_type": "error",
     "traceback": [
      "\u001B[0;36m  File \u001B[0;32m\"/var/folders/m1/rvzfgl550878c58p7v_yhv300000gq/T/ipykernel_44514/2743663617.py\"\u001B[0;36m, line \u001B[0;32m2\u001B[0m\n\u001B[0;31m    for i in range()\u001B[0m\n\u001B[0m                    ^\u001B[0m\n\u001B[0;31mSyntaxError\u001B[0m\u001B[0;31m:\u001B[0m invalid syntax\n"
     ]
    }
   ],
   "source": [
    "numbers = []"
   ],
   "metadata": {
    "collapsed": false,
    "pycharm": {
     "name": "#%%\n"
    }
   }
  },
  {
   "cell_type": "markdown",
   "source": [
    "To input a number, if the number is even multiply it by 100 and print the result\n",
    "otherwise print the number as it is."
   ],
   "metadata": {
    "collapsed": false,
    "pycharm": {
     "name": "#%% md\n"
    }
   }
  },
  {
   "cell_type": "code",
   "execution_count": 12,
   "outputs": [
    {
     "name": "stdout",
     "output_type": "stream",
     "text": [
      "121\n"
     ]
    }
   ],
   "source": [
    "n = int(input(\"Please enter the number >\"))\n",
    "if n % 2 == 0: print(n * 100)\n",
    "else: print(n)"
   ],
   "metadata": {
    "collapsed": false,
    "pycharm": {
     "name": "#%%\n"
    }
   }
  },
  {
   "cell_type": "markdown",
   "source": [
    "Input the sides of a triangle, print whether the triangle is isosceles or not."
   ],
   "metadata": {
    "collapsed": false
   }
  },
  {
   "cell_type": "code",
   "execution_count": 3,
   "outputs": [
    {
     "name": "stdout",
     "output_type": "stream",
     "text": [
      "True\n"
     ]
    }
   ],
   "source": [
    "sides = [eval(input(\"Length of side #1\")), eval(input(\"Length of side #2\")), eval(input(\"Length of side #3\"))]\n",
    "isosceles = False\n",
    "for i in sides:\n",
    "    if sides.count(i) > 1:\n",
    "        isosceles = True\n",
    "print(isosceles)"
   ],
   "metadata": {
    "collapsed": false,
    "pycharm": {
     "name": "#%%\n"
    }
   }
  },
  {
   "cell_type": "markdown",
   "source": [
    "Input the 3 sides of triangle and print whether its perimeter is greater than the\n",
    "area."
   ],
   "metadata": {
    "collapsed": false,
    "pycharm": {
     "name": "#%% md\n"
    }
   }
  },
  {
   "cell_type": "code",
   "execution_count": 5,
   "outputs": [
    {
     "name": "stdout",
     "output_type": "stream",
     "text": [
      "True\n"
     ]
    }
   ],
   "source": [
    "sides = [eval(input(\"Length of side #1\")), eval(input(\"Length of side #2\")), eval(input(\"Length of side #3\"))]\n",
    "s = sum(sides)/3\n",
    "print((3 * s) > (s * (s - sides[0]) * (s - sides[1]) * (s - sides[2])) ** (1/2))"
   ],
   "metadata": {
    "collapsed": false,
    "pycharm": {
     "name": "#%%\n"
    }
   }
  },
  {
   "cell_type": "markdown",
   "source": [
    "# Write a program that inputs single characters and prints the sum of their ASCII values."
   ],
   "metadata": {
    "collapsed": false,
    "pycharm": {
     "name": "#%% md\n"
    }
   }
  },
  {
   "cell_type": "code",
   "execution_count": null,
   "outputs": [],
   "source": [],
   "metadata": {
    "collapsed": false,
    "pycharm": {
     "name": "#%%\n"
    }
   }
  },
  {
   "cell_type": "markdown",
   "source": [
    "Write a program to find the roots of a quadratic equation ax^2 + bx +c = 0."
   ],
   "metadata": {
    "collapsed": false,
    "pycharm": {
     "name": "#%% md\n"
    }
   }
  },
  {
   "cell_type": "code",
   "execution_count": 6,
   "outputs": [
    {
     "name": "stdout",
     "output_type": "stream",
     "text": [
      "1.0\n",
      "3.0\n"
     ]
    }
   ],
   "source": [
    "quad = [int(input(\"Co-efficient of x^2\")), int(input(\"Co-efficient of x\")), int(input(\"Constant\"))]\n",
    "D = quad[1] ** 2 - 4 * quad[0] * quad[2]\n",
    "print((-quad[1] - D ** 0.5)/2)\n",
    "print((-quad[1] + D ** 0.5)/2)"
   ],
   "metadata": {
    "collapsed": false,
    "pycharm": {
     "name": "#%%\n"
    }
   }
  },
  {
   "cell_type": "markdown",
   "source": [
    "# Write a program to input characters from the keyboard and count the number of vowels, white space characters, tab keys and any other characters."
   ],
   "metadata": {
    "collapsed": false
   }
  },
  {
   "cell_type": "code",
   "execution_count": null,
   "outputs": [],
   "source": [],
   "metadata": {
    "collapsed": false,
    "pycharm": {
     "name": "#%%\n"
    }
   }
  },
  {
   "cell_type": "markdown",
   "source": [
    "Write a menu-driven program that converts an input temperature from centigrade to fahrenheit or vice versa, depending on the users choice."
   ],
   "metadata": {
    "collapsed": false
   }
  },
  {
   "cell_type": "code",
   "execution_count": 5,
   "outputs": [
    {
     "name": "stdout",
     "output_type": "stream",
     "text": [
      "32.0 ºF\n"
     ]
    }
   ],
   "source": [
    "choice = int(input(\"Press 1 to convert centigrade to fahrenheit or 2 to convert fahrenheit to centigrade (1/2)\"))\n",
    "if choice == 1:\n",
    "    c = float(input(\"Input temperature in centigrade> \"))\n",
    "    print((c * 1.8) + 32, \"ºF\")\n",
    "elif choice == 2:\n",
    "    f = float(input(\"Input temperature in fahrenheit> \"))\n",
    "    print((f - 32) * 5/9, \"ºC\")\n",
    "else:\n",
    "    print(\"Invalid Input. Stopping Runtime\")\n",
    "    exit()"
   ],
   "metadata": {
    "collapsed": false,
    "pycharm": {
     "name": "#%%\n"
    }
   }
  },
  {
   "cell_type": "markdown",
   "source": [
    "Suppose electricity costs 6.72 cents per KWh and a state tax of 8% is added, along with a city tax of 3.5%. Write a program that accepts the number of hours and calculates a bill."
   ],
   "metadata": {
    "collapsed": false
   }
  },
  {
   "cell_type": "code",
   "execution_count": 8,
   "outputs": [
    {
     "name": "stdout",
     "output_type": "stream",
     "text": [
      "The total cost for 100 hours is a base cost of 672, a state tax of 53 and a city tax of 23 giving a grand total of 749\n"
     ]
    }
   ],
   "source": [
    "hours = eval(input(\"Enter number of hours> \"))\n",
    "base = 6.72 * hours\n",
    "stax = 0.08 * base\n",
    "ctax = 0.035 * base\n",
    "print(\"The total cost for %d hours is a base cost of %d, a state tax of %d and a city tax of %d giving a grand total of %d\"%(hours, base, stax, ctax, (base + stax + ctax)))\n"
   ],
   "metadata": {
    "collapsed": false,
    "pycharm": {
     "name": "#%%\n"
    }
   }
  },
  {
   "cell_type": "markdown",
   "source": [
    "A set of two linear equations with 2 unknowns x1 and x2 is given below:\n",
    "ax1 + bx2 = m ; cx1 + dx2 = n\n",
    "\n",
    "The set has a unique solution:\n",
    "\n",
    "x1 = (md - bn)/(ad - cb) ; x2 = (na - mc)/(ad - cb)\n",
    "\n",
    "provided the denominator ad – cb is not equal to zero. Write a program that will\n",
    "read the values of a, b, c, d, m and n and compute the values of x1 and x2. An\n",
    "appropriate message should be printed if (ad – cb = 0)."
   ],
   "metadata": {
    "collapsed": false
   }
  },
  {
   "cell_type": "code",
   "execution_count": 1,
   "outputs": [
    {
     "name": "stdout",
     "output_type": "stream",
     "text": [
      "Let the quadratic be of form ax1 + bx2 = m and cx1 + dx2 = n\n",
      "For the quadratic 1x1 + 2x2 = 2 and 1x1 + 2x2 = 2\n",
      "Error since ad - cb = 0\n"
     ]
    }
   ],
   "source": [
    "print(\"Let the quadratic be of form ax1 + bx2 = m and cx1 + dx2 = n\")\n",
    "quad1 = [int(input(\"Enter co-efficient of x1> \")), int(input(\"Enter co-efficient of x2> \")), int(input(\"Enter constant \"))]\n",
    "quad2 = [int(input(\"Enter co-efficient of x1> \")), int(input(\"Enter co-efficient of x2> \")), int(input(\"Enter constant \"))]\n",
    "print(\"For the quadratic %dx1 + %dx2 = %d and %dx1 + %dx2 = %d\"%(quad1[0], quad1[1], quad1[2], quad2[0], quad1[1], quad1[2]))\n",
    "den = quad1[0] * quad2[1] - quad2[0] * quad1[1]\n",
    "if den == 0:\n",
    "    print(\"Error since ad - cb = 0\")\n",
    "    exit()\n",
    "else:\n",
    "    print(\"x1 = \", (quad1[2] * quad2[1] - quad1[1] * quad2[2])/ den)\n",
    "    print(\"x2 = \", (quad2[2] * quad1[0] - quad1[2] * quad2[0])/ den)\n"
   ],
   "metadata": {
    "collapsed": false,
    "pycharm": {
     "name": "#%%\n"
    }
   }
  },
  {
   "cell_type": "markdown",
   "source": [
    "To find the sum of all integers greater than 100 and less than 200 which are\n",
    "divisible by 7."
   ],
   "metadata": {
    "collapsed": false,
    "pycharm": {
     "name": "#%% md\n"
    }
   }
  },
  {
   "cell_type": "code",
   "execution_count": 2,
   "outputs": [
    {
     "name": "stdout",
     "output_type": "stream",
     "text": [
      "2107\n"
     ]
    }
   ],
   "source": [
    "sm = 0\n",
    "for i in range(100, 200):\n",
    "    if i % 7 == 0:\n",
    "        sm += i\n",
    "print(sm)"
   ],
   "metadata": {
    "collapsed": false,
    "pycharm": {
     "name": "#%%\n"
    }
   }
  },
  {
   "cell_type": "code",
   "execution_count": 1,
   "outputs": [
    {
     "name": "stdout",
     "output_type": "stream",
     "text": [
      "2107\n"
     ]
    }
   ],
   "source": [
    "sm = 0\n",
    "for i in range(105, 200, 7):\n",
    "    sm += i\n",
    "print(sm)\n"
   ],
   "metadata": {
    "collapsed": false,
    "pycharm": {
     "name": "#%%\n"
    }
   }
  },
  {
   "cell_type": "markdown",
   "source": [
    "Admission to a professional course is subject to the following conditions:\n",
    "\n",
    "a. Marks in maths >=60\n",
    "b. Marks in physics >=50\n",
    "c. Marks in chemistry >=40\n",
    "d. Total in all three subjects >= 200\n",
    "\n",
    "Given the marks in the 3 subjects write a program to process an application and\n",
    "print the eligibility of a candidate."
   ],
   "metadata": {
    "collapsed": false
   }
  },
  {
   "cell_type": "code",
   "execution_count": null,
   "outputs": [],
   "source": [
    "marks = [float(input(\"Enter marks in Mathematics\")), float(input(\"Enter marks in Physics\")), float(input(\"Enter marks in Chemistry\"))]\n",
    "if marks[0] >= 60 and marks[1] >= 50 and marks[2] >= 40 and sum(marks) >= 200:\n",
    "    print(\"The candidate is eligible\")\n",
    "else:\n",
    "    print(\"The candidate is not eligible\")"
   ],
   "metadata": {
    "collapsed": false,
    "pycharm": {
     "name": "#%%\n"
    }
   }
  },
  {
   "cell_type": "markdown",
   "source": [
    "# Print Floyd's triangle\n",
    "\n",
    "1\n",
    "\n",
    "2 3\n",
    "\n",
    "4 5 6\n",
    "\n",
    "....\n",
    "\n",
    "79...91"
   ],
   "metadata": {
    "collapsed": false,
    "pycharm": {
     "name": "#%% md\n"
    }
   }
  },
  {
   "cell_type": "code",
   "source": [
    "rows = 10\n",
    "for row in range(1, 10):\n",
    "    for"
   ],
   "metadata": {
    "collapsed": false,
    "pycharm": {
     "name": "#%%\n"
    }
   },
   "execution_count": null,
   "outputs": []
  }
 ],
 "metadata": {
  "kernelspec": {
   "display_name": "Python 3",
   "language": "python",
   "name": "python3"
  },
  "language_info": {
   "codemirror_mode": {
    "name": "ipython",
    "version": 2
   },
   "file_extension": ".py",
   "mimetype": "text/x-python",
   "name": "python",
   "nbconvert_exporter": "python",
   "pygments_lexer": "ipython2",
   "version": "2.7.6"
  }
 },
 "nbformat": 4,
 "nbformat_minor": 0
}